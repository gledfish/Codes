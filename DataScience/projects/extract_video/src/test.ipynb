{
 "cells": [
  {
   "cell_type": "code",
   "execution_count": 1,
   "metadata": {},
   "outputs": [
    {
     "name": "stdout",
     "output_type": "stream",
     "text": [
      "testing\n"
     ]
    }
   ],
   "source": [
    "print(\"testing\")"
   ]
  },
  {
   "cell_type": "code",
   "execution_count": null,
   "metadata": {},
   "outputs": [],
   "source": [
    "%pip install numpy\n",
    "%pip install matplotlib"
   ]
  },
  {
   "cell_type": "code",
   "execution_count": null,
   "metadata": {},
   "outputs": [],
   "source": [
    "%pip install opencv-python"
   ]
  },
  {
   "cell_type": "code",
   "execution_count": null,
   "metadata": {},
   "outputs": [],
   "source": [
    "%pip install moviepy"
   ]
  },
  {
   "cell_type": "markdown",
   "metadata": {},
   "source": []
  },
  {
   "cell_type": "code",
   "execution_count": 1,
   "metadata": {},
   "outputs": [
    {
     "name": "stdout",
     "output_type": "stream",
     "text": [
      "4.8.1\n"
     ]
    }
   ],
   "source": [
    "import cv2 as cv\n",
    "print(cv.__version__)"
   ]
  },
  {
   "cell_type": "code",
   "execution_count": 3,
   "metadata": {},
   "outputs": [
    {
     "ename": "OSError",
     "evalue": "MoviePy error: the file extract_video/data/videos/chinese.mp4 could not be found!\nPlease check that you entered the correct path.",
     "output_type": "error",
     "traceback": [
      "\u001b[1;31m---------------------------------------------------------------------------\u001b[0m",
      "\u001b[1;31mOSError\u001b[0m                                   Traceback (most recent call last)",
      "\u001b[1;32md:\\Codes\\DataScience\\projects\\extract_video\\src\\env.ipynb Cell 7\u001b[0m line \u001b[0;36m9\n\u001b[0;32m      <a href='vscode-notebook-cell:/d%3A/Codes/DataScience/projects/extract_video/src/env.ipynb#W6sZmlsZQ%3D%3D?line=6'>7</a>\u001b[0m     audio\u001b[39m.\u001b[39mwrite_audiofile(audio_path)\n\u001b[0;32m      <a href='vscode-notebook-cell:/d%3A/Codes/DataScience/projects/extract_video/src/env.ipynb#W6sZmlsZQ%3D%3D?line=7'>8</a>\u001b[0m \u001b[39m# 调用函数\u001b[39;00m\n\u001b[1;32m----> <a href='vscode-notebook-cell:/d%3A/Codes/DataScience/projects/extract_video/src/env.ipynb#W6sZmlsZQ%3D%3D?line=8'>9</a>\u001b[0m extract_audio(\u001b[39m'\u001b[39;49m\u001b[39mextract_video/data/videos/chinese.mp4\u001b[39;49m\u001b[39m'\u001b[39;49m,\u001b[39m'\u001b[39;49m\u001b[39mextract_video/data/audio/chinese.mp3\u001b[39;49m\u001b[39m'\u001b[39;49m)\n",
      "\u001b[1;32md:\\Codes\\DataScience\\projects\\extract_video\\src\\env.ipynb Cell 7\u001b[0m line \u001b[0;36m5\n\u001b[0;32m      <a href='vscode-notebook-cell:/d%3A/Codes/DataScience/projects/extract_video/src/env.ipynb#W6sZmlsZQ%3D%3D?line=3'>4</a>\u001b[0m \u001b[39mdef\u001b[39;00m \u001b[39mextract_audio\u001b[39m(video_path,audio_path):\n\u001b[1;32m----> <a href='vscode-notebook-cell:/d%3A/Codes/DataScience/projects/extract_video/src/env.ipynb#W6sZmlsZQ%3D%3D?line=4'>5</a>\u001b[0m     video \u001b[39m=\u001b[39m VideoFileClip(video_path)\n\u001b[0;32m      <a href='vscode-notebook-cell:/d%3A/Codes/DataScience/projects/extract_video/src/env.ipynb#W6sZmlsZQ%3D%3D?line=5'>6</a>\u001b[0m     audio \u001b[39m=\u001b[39m video\u001b[39m.\u001b[39maudio\n\u001b[0;32m      <a href='vscode-notebook-cell:/d%3A/Codes/DataScience/projects/extract_video/src/env.ipynb#W6sZmlsZQ%3D%3D?line=6'>7</a>\u001b[0m     audio\u001b[39m.\u001b[39mwrite_audiofile(audio_path)\n",
      "File \u001b[1;32md:\\Codes\\DataScience\\projects\\extract_video\\Lib\\site-packages\\moviepy\\video\\io\\VideoFileClip.py:88\u001b[0m, in \u001b[0;36mVideoFileClip.__init__\u001b[1;34m(self, filename, has_mask, audio, audio_buffersize, target_resolution, resize_algorithm, audio_fps, audio_nbytes, verbose, fps_source)\u001b[0m\n\u001b[0;32m     86\u001b[0m \u001b[39m# Make a reader\u001b[39;00m\n\u001b[0;32m     87\u001b[0m pix_fmt \u001b[39m=\u001b[39m \u001b[39m\"\u001b[39m\u001b[39mrgba\u001b[39m\u001b[39m\"\u001b[39m \u001b[39mif\u001b[39;00m has_mask \u001b[39melse\u001b[39;00m \u001b[39m\"\u001b[39m\u001b[39mrgb24\u001b[39m\u001b[39m\"\u001b[39m\n\u001b[1;32m---> 88\u001b[0m \u001b[39mself\u001b[39m\u001b[39m.\u001b[39mreader \u001b[39m=\u001b[39m FFMPEG_VideoReader(filename, pix_fmt\u001b[39m=\u001b[39;49mpix_fmt,\n\u001b[0;32m     89\u001b[0m                                  target_resolution\u001b[39m=\u001b[39;49mtarget_resolution,\n\u001b[0;32m     90\u001b[0m                                  resize_algo\u001b[39m=\u001b[39;49mresize_algorithm,\n\u001b[0;32m     91\u001b[0m                                  fps_source\u001b[39m=\u001b[39;49mfps_source)\n\u001b[0;32m     93\u001b[0m \u001b[39m# Make some of the reader's attributes accessible from the clip\u001b[39;00m\n\u001b[0;32m     94\u001b[0m \u001b[39mself\u001b[39m\u001b[39m.\u001b[39mduration \u001b[39m=\u001b[39m \u001b[39mself\u001b[39m\u001b[39m.\u001b[39mreader\u001b[39m.\u001b[39mduration\n",
      "File \u001b[1;32md:\\Codes\\DataScience\\projects\\extract_video\\Lib\\site-packages\\moviepy\\video\\io\\ffmpeg_reader.py:35\u001b[0m, in \u001b[0;36mFFMPEG_VideoReader.__init__\u001b[1;34m(self, filename, print_infos, bufsize, pix_fmt, check_duration, target_resolution, resize_algo, fps_source)\u001b[0m\n\u001b[0;32m     33\u001b[0m \u001b[39mself\u001b[39m\u001b[39m.\u001b[39mfilename \u001b[39m=\u001b[39m filename\n\u001b[0;32m     34\u001b[0m \u001b[39mself\u001b[39m\u001b[39m.\u001b[39mproc \u001b[39m=\u001b[39m \u001b[39mNone\u001b[39;00m\n\u001b[1;32m---> 35\u001b[0m infos \u001b[39m=\u001b[39m ffmpeg_parse_infos(filename, print_infos, check_duration,\n\u001b[0;32m     36\u001b[0m                            fps_source)\n\u001b[0;32m     37\u001b[0m \u001b[39mself\u001b[39m\u001b[39m.\u001b[39mfps \u001b[39m=\u001b[39m infos[\u001b[39m'\u001b[39m\u001b[39mvideo_fps\u001b[39m\u001b[39m'\u001b[39m]\n\u001b[0;32m     38\u001b[0m \u001b[39mself\u001b[39m\u001b[39m.\u001b[39msize \u001b[39m=\u001b[39m infos[\u001b[39m'\u001b[39m\u001b[39mvideo_size\u001b[39m\u001b[39m'\u001b[39m]\n",
      "File \u001b[1;32md:\\Codes\\DataScience\\projects\\extract_video\\Lib\\site-packages\\moviepy\\video\\io\\ffmpeg_reader.py:270\u001b[0m, in \u001b[0;36mffmpeg_parse_infos\u001b[1;34m(filename, print_infos, check_duration, fps_source)\u001b[0m\n\u001b[0;32m    268\u001b[0m lines \u001b[39m=\u001b[39m infos\u001b[39m.\u001b[39msplitlines()\n\u001b[0;32m    269\u001b[0m \u001b[39mif\u001b[39;00m \u001b[39m\"\u001b[39m\u001b[39mNo such file or directory\u001b[39m\u001b[39m\"\u001b[39m \u001b[39min\u001b[39;00m lines[\u001b[39m-\u001b[39m\u001b[39m1\u001b[39m]:\n\u001b[1;32m--> 270\u001b[0m     \u001b[39mraise\u001b[39;00m \u001b[39mIOError\u001b[39;00m((\u001b[39m\"\u001b[39m\u001b[39mMoviePy error: the file \u001b[39m\u001b[39m%s\u001b[39;00m\u001b[39m could not be found!\u001b[39m\u001b[39m\\n\u001b[39;00m\u001b[39m\"\u001b[39m\n\u001b[0;32m    271\u001b[0m                   \u001b[39m\"\u001b[39m\u001b[39mPlease check that you entered the correct \u001b[39m\u001b[39m\"\u001b[39m\n\u001b[0;32m    272\u001b[0m                   \u001b[39m\"\u001b[39m\u001b[39mpath.\u001b[39m\u001b[39m\"\u001b[39m)\u001b[39m%\u001b[39mfilename)\n\u001b[0;32m    274\u001b[0m result \u001b[39m=\u001b[39m \u001b[39mdict\u001b[39m()\n\u001b[0;32m    277\u001b[0m \u001b[39m# get duration (in seconds)\u001b[39;00m\n",
      "\u001b[1;31mOSError\u001b[0m: MoviePy error: the file extract_video/data/videos/chinese.mp4 could not be found!\nPlease check that you entered the correct path."
     ]
    }
   ],
   "source": [
    "# 提取音频\n",
    "from moviepy.editor import VideoFileClip\n",
    "\n",
    "def extract_audio(video_path,audio_path):\n",
    "    video = VideoFileClip(video_path)\n",
    "    audio = video.audio\n",
    "    audio.write_audiofile(audio_path)\n",
    "# 调用函数\n",
    "extract_audio('extract_video/data/videos/chinese.mp4','extract_video/data/audio/chinese.mp3')"
   ]
  },
  {
   "cell_type": "code",
   "execution_count": null,
   "metadata": {},
   "outputs": [],
   "source": [
    "# 音频转文字"
   ]
  }
 ],
 "metadata": {
  "kernelspec": {
   "display_name": "extract_video",
   "language": "python",
   "name": "python3"
  },
  "language_info": {
   "codemirror_mode": {
    "name": "ipython",
    "version": 3
   },
   "file_extension": ".py",
   "mimetype": "text/x-python",
   "name": "python",
   "nbconvert_exporter": "python",
   "pygments_lexer": "ipython3",
   "version": "3.11.5"
  }
 },
 "nbformat": 4,
 "nbformat_minor": 2
}
